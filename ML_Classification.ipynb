{
 "cells": [
  {
   "cell_type": "code",
   "execution_count": 28,
   "id": "5ce3e56d",
   "metadata": {},
   "outputs": [],
   "source": [
    "import numpy as np\n",
    "import pandas as pd\n",
    "from sklearn.model_selection import GridSearchCV, cross_val_score, cross_val_predict \n",
    "from sklearn.linear_model import LogisticRegressionCV\n",
    "from sklearn import preprocessing, metrics, svm\n",
    "from sklearn.metrics import accuracy_score, classification_report\n",
    "from tabpy.tabpy_tools.client import Client\n",
    "import warnings\n",
    "warnings.filterwarnings(\"ignore\")"
   ]
  },
  {
   "cell_type": "code",
   "execution_count": 7,
   "id": "169ac915",
   "metadata": {},
   "outputs": [],
   "source": [
    "df = pd.read_csv('data_cleaned.csv')"
   ]
  },
  {
   "cell_type": "code",
   "execution_count": 8,
   "id": "a0eb08cf",
   "metadata": {},
   "outputs": [
    {
     "data": {
      "text/html": [
       "<div>\n",
       "<style scoped>\n",
       "    .dataframe tbody tr th:only-of-type {\n",
       "        vertical-align: middle;\n",
       "    }\n",
       "\n",
       "    .dataframe tbody tr th {\n",
       "        vertical-align: top;\n",
       "    }\n",
       "\n",
       "    .dataframe thead th {\n",
       "        text-align: right;\n",
       "    }\n",
       "</style>\n",
       "<table border=\"1\" class=\"dataframe\">\n",
       "  <thead>\n",
       "    <tr style=\"text-align: right;\">\n",
       "      <th></th>\n",
       "      <th>id</th>\n",
       "      <th>diagnosis</th>\n",
       "      <th>radius</th>\n",
       "      <th>texture</th>\n",
       "      <th>perimeter</th>\n",
       "      <th>area</th>\n",
       "      <th>smoothness</th>\n",
       "      <th>compactness</th>\n",
       "      <th>concavity</th>\n",
       "      <th>concavepoints</th>\n",
       "      <th>symmetry</th>\n",
       "      <th>fractaldimension</th>\n",
       "    </tr>\n",
       "  </thead>\n",
       "  <tbody>\n",
       "    <tr>\n",
       "      <th>0</th>\n",
       "      <td>842302</td>\n",
       "      <td>Malignant</td>\n",
       "      <td>17.99</td>\n",
       "      <td>10.38</td>\n",
       "      <td>122.80</td>\n",
       "      <td>1001.0</td>\n",
       "      <td>0.11840</td>\n",
       "      <td>0.27760</td>\n",
       "      <td>0.3001</td>\n",
       "      <td>0.14710</td>\n",
       "      <td>0.2419</td>\n",
       "      <td>0.07871</td>\n",
       "    </tr>\n",
       "    <tr>\n",
       "      <th>1</th>\n",
       "      <td>842517</td>\n",
       "      <td>Malignant</td>\n",
       "      <td>20.57</td>\n",
       "      <td>17.77</td>\n",
       "      <td>132.90</td>\n",
       "      <td>1326.0</td>\n",
       "      <td>0.08474</td>\n",
       "      <td>0.07864</td>\n",
       "      <td>0.0869</td>\n",
       "      <td>0.07017</td>\n",
       "      <td>0.1812</td>\n",
       "      <td>0.05667</td>\n",
       "    </tr>\n",
       "    <tr>\n",
       "      <th>2</th>\n",
       "      <td>84300903</td>\n",
       "      <td>Malignant</td>\n",
       "      <td>19.69</td>\n",
       "      <td>21.25</td>\n",
       "      <td>130.00</td>\n",
       "      <td>1203.0</td>\n",
       "      <td>0.10960</td>\n",
       "      <td>0.15990</td>\n",
       "      <td>0.1974</td>\n",
       "      <td>0.12790</td>\n",
       "      <td>0.2069</td>\n",
       "      <td>0.05999</td>\n",
       "    </tr>\n",
       "    <tr>\n",
       "      <th>3</th>\n",
       "      <td>84348301</td>\n",
       "      <td>Malignant</td>\n",
       "      <td>11.42</td>\n",
       "      <td>20.38</td>\n",
       "      <td>77.58</td>\n",
       "      <td>386.1</td>\n",
       "      <td>0.14250</td>\n",
       "      <td>0.28390</td>\n",
       "      <td>0.2414</td>\n",
       "      <td>0.10520</td>\n",
       "      <td>0.2597</td>\n",
       "      <td>0.09744</td>\n",
       "    </tr>\n",
       "    <tr>\n",
       "      <th>4</th>\n",
       "      <td>84358402</td>\n",
       "      <td>Malignant</td>\n",
       "      <td>20.29</td>\n",
       "      <td>14.34</td>\n",
       "      <td>135.10</td>\n",
       "      <td>1297.0</td>\n",
       "      <td>0.10030</td>\n",
       "      <td>0.13280</td>\n",
       "      <td>0.1980</td>\n",
       "      <td>0.10430</td>\n",
       "      <td>0.1809</td>\n",
       "      <td>0.05883</td>\n",
       "    </tr>\n",
       "  </tbody>\n",
       "</table>\n",
       "</div>"
      ],
      "text/plain": [
       "         id  diagnosis  radius  texture  perimeter    area  smoothness  \\\n",
       "0    842302  Malignant   17.99    10.38     122.80  1001.0     0.11840   \n",
       "1    842517  Malignant   20.57    17.77     132.90  1326.0     0.08474   \n",
       "2  84300903  Malignant   19.69    21.25     130.00  1203.0     0.10960   \n",
       "3  84348301  Malignant   11.42    20.38      77.58   386.1     0.14250   \n",
       "4  84358402  Malignant   20.29    14.34     135.10  1297.0     0.10030   \n",
       "\n",
       "   compactness  concavity  concavepoints  symmetry  fractaldimension  \n",
       "0      0.27760     0.3001        0.14710    0.2419           0.07871  \n",
       "1      0.07864     0.0869        0.07017    0.1812           0.05667  \n",
       "2      0.15990     0.1974        0.12790    0.2069           0.05999  \n",
       "3      0.28390     0.2414        0.10520    0.2597           0.09744  \n",
       "4      0.13280     0.1980        0.10430    0.1809           0.05883  "
      ]
     },
     "execution_count": 8,
     "metadata": {},
     "output_type": "execute_result"
    }
   ],
   "source": [
    "df.head()"
   ]
  },
  {
   "cell_type": "markdown",
   "id": "bf9e5bc0",
   "metadata": {},
   "source": [
    "## Data Preprocessing"
   ]
  },
  {
   "cell_type": "code",
   "execution_count": 9,
   "id": "3313ec3e",
   "metadata": {},
   "outputs": [],
   "source": [
    "df.drop('id',axis=1, inplace=True)\n",
    "\n",
    "# Change the target variable 'diagnosis' to numeric\n",
    "encoder = preprocessing.LabelEncoder()\n",
    "df['diagnosis'] = encoder.fit_transform(df['diagnosis'])"
   ]
  },
  {
   "cell_type": "code",
   "execution_count": 12,
   "id": "b9b98211",
   "metadata": {},
   "outputs": [
    {
     "data": {
      "text/plain": [
       "{'Benign': 0, 'Malignant': 1}"
      ]
     },
     "execution_count": 12,
     "metadata": {},
     "output_type": "execute_result"
    }
   ],
   "source": [
    "dict(zip(encoder.classes_, encoder.fit_transform(encoder.classes_)))"
   ]
  },
  {
   "cell_type": "code",
   "execution_count": 13,
   "id": "cbd4d3c3",
   "metadata": {},
   "outputs": [],
   "source": [
    "X = np.array(df.drop('diagnosis', axis=1))\n",
    "y = np.array(df['diagnosis'])\n",
    "\n",
    "# Standardize the data\n",
    "scaler = preprocessing.StandardScaler().fit(X)\n",
    "X = scaler.transform(X)"
   ]
  },
  {
   "cell_type": "markdown",
   "id": "ade3a011",
   "metadata": {},
   "source": [
    "## SVM"
   ]
  },
  {
   "cell_type": "code",
   "execution_count": 22,
   "id": "5ef42c34",
   "metadata": {},
   "outputs": [],
   "source": [
    "# Define the parameter grid to use for tuning the Support Vector Machine\n",
    "svm_parameters = [{'kernel': ['rbf'], 'gamma': [1e-3, 1e-4],\n",
    "                     'C': [1, 10, 100, 1000]},\n",
    "                    {'kernel': ['linear'], 'C': [1, 10, 100, 1000]}]\n",
    "\n",
    "# Choose the metrices for measuring the models\n",
    "scoring_methods = ['f1','accuracy','precision', 'recall','roc_auc']"
   ]
  },
  {
   "cell_type": "code",
   "execution_count": 23,
   "id": "2767be95",
   "metadata": {},
   "outputs": [
    {
     "name": "stdout",
     "output_type": "stream",
     "text": [
      "------Hyperparameter tuning for best f1------\n",
      "  0.912  for {'C': 100, 'gamma': 0.001, 'kernel': 'rbf'}\n",
      "\t\n",
      "------Hyperparameter tuning for best accuracy------\n",
      "  0.937  for {'C': 100, 'gamma': 0.001, 'kernel': 'rbf'}\n",
      "\t\n",
      "------Hyperparameter tuning for best precision------\n"
     ]
    },
    {
     "name": "stderr",
     "output_type": "stream",
     "text": [
      "/Users/Administrator/anaconda3/lib/python3.11/site-packages/sklearn/metrics/_classification.py:1469: UndefinedMetricWarning: Precision is ill-defined and being set to 0.0 due to no predicted samples. Use `zero_division` parameter to control this behavior.\n",
      "  _warn_prf(average, modifier, msg_start, len(result))\n",
      "/Users/Administrator/anaconda3/lib/python3.11/site-packages/sklearn/metrics/_classification.py:1469: UndefinedMetricWarning: Precision is ill-defined and being set to 0.0 due to no predicted samples. Use `zero_division` parameter to control this behavior.\n",
      "  _warn_prf(average, modifier, msg_start, len(result))\n",
      "/Users/Administrator/anaconda3/lib/python3.11/site-packages/sklearn/metrics/_classification.py:1469: UndefinedMetricWarning: Precision is ill-defined and being set to 0.0 due to no predicted samples. Use `zero_division` parameter to control this behavior.\n",
      "  _warn_prf(average, modifier, msg_start, len(result))\n"
     ]
    },
    {
     "name": "stdout",
     "output_type": "stream",
     "text": [
      "  0.981  for {'C': 1, 'gamma': 0.001, 'kernel': 'rbf'}\n",
      "\t\n",
      "------Hyperparameter tuning for best recall------\n",
      "  0.897  for {'C': 1000, 'gamma': 0.001, 'kernel': 'rbf'}\n",
      "\t\n",
      "------Hyperparameter tuning for best roc_auc------\n",
      "  0.986  for {'C': 1000, 'gamma': 0.001, 'kernel': 'rbf'}\n",
      "\t\n"
     ]
    }
   ],
   "source": [
    "for score in scoring_methods:\n",
    "    print(f\"------Hyperparameter tuning for best {score}------\")\n",
    "    \n",
    "    svmclf = GridSearchCV(svm.SVC(C=1), parameters, cv=10, scoring=score, n_jobs=-1)\n",
    "    svmclf.fit(X, y)\n",
    "\n",
    "    print(\"  %0.3f  for %r\" % (svmclf.best_score_, svmclf.best_params_)) \n",
    "    print(\"\\t\")\n",
    "    "
   ]
  },
  {
   "cell_type": "code",
   "execution_count": 24,
   "id": "4da871d1",
   "metadata": {},
   "outputs": [
    {
     "name": "stdout",
     "output_type": "stream",
     "text": [
      "Classification report:\n",
      "              precision    recall  f1-score   support\n",
      "\n",
      "           0       0.95      0.99      0.97       357\n",
      "           1       0.98      0.91      0.94       212\n",
      "\n",
      "    accuracy                           0.96       569\n",
      "   macro avg       0.96      0.95      0.95       569\n",
      "weighted avg       0.96      0.96      0.96       569\n",
      "\n"
     ]
    }
   ],
   "source": [
    "print(\"Classification report:\")\n",
    "y_pred = svmclf.predict(X)\n",
    "print(classification_report(y, y_pred))"
   ]
  },
  {
   "cell_type": "code",
   "execution_count": 25,
   "id": "c4979c62",
   "metadata": {},
   "outputs": [
    {
     "name": "stdout",
     "output_type": "stream",
     "text": [
      "Best model:\n",
      "SVC(C=1000, gamma=0.001)\n"
     ]
    }
   ],
   "source": [
    "# Show the best model with optimal parameters\n",
    "print(\"Best model:\")\n",
    "print(svmclf.best_estimator_)"
   ]
  },
  {
   "cell_type": "code",
   "execution_count": 27,
   "id": "e6d3e45f",
   "metadata": {},
   "outputs": [
    {
     "name": "stdout",
     "output_type": "stream",
     "text": [
      "Accuracy: 0.958\n",
      "Auc: 0.947\n"
     ]
    }
   ],
   "source": [
    "# Show accuracy and area under ROC curve\n",
    "print(\"Accuracy: %0.3f\" % accuracy_score(y, y_pred, normalize=True))\n",
    "print(\"Auc: %0.3f\" % metrics.roc_auc_score(y, y_pred))"
   ]
  },
  {
   "cell_type": "markdown",
   "id": "451cb705",
   "metadata": {},
   "source": [
    "## Logistic Regression"
   ]
  },
  {
   "cell_type": "code",
   "execution_count": 32,
   "id": "dcac16d1",
   "metadata": {},
   "outputs": [],
   "source": [
    "# Utilize Logistic regression with 10-fold cross-validation\n",
    "lrclf = LogisticRegressionCV(Cs=list(np.power(10.0, np.arange(-10, 10))),penalty='l2',scoring='roc_auc',cv=10)\n",
    "lrclf.fit(X, y)\n",
    "y_pred = lrclf.predict(X)"
   ]
  },
  {
   "cell_type": "code",
   "execution_count": 33,
   "id": "53698ca0",
   "metadata": {},
   "outputs": [
    {
     "name": "stdout",
     "output_type": "stream",
     "text": [
      "Classification report:\n",
      "              precision    recall  f1-score   support\n",
      "\n",
      "           0       0.93      0.98      0.95       357\n",
      "           1       0.96      0.87      0.91       212\n",
      "\n",
      "    accuracy                           0.94       569\n",
      "   macro avg       0.94      0.93      0.93       569\n",
      "weighted avg       0.94      0.94      0.94       569\n",
      "\n"
     ]
    }
   ],
   "source": [
    "print(\"Classification report:\")\n",
    "print(classification_report(y, y_pred))"
   ]
  },
  {
   "cell_type": "code",
   "execution_count": 34,
   "id": "a3b46a0c",
   "metadata": {},
   "outputs": [
    {
     "name": "stdout",
     "output_type": "stream",
     "text": [
      "Accuracy: 0.938\n",
      "Auc: 0.925\n"
     ]
    }
   ],
   "source": [
    "print(\"Accuracy: %0.3f\" % accuracy_score(y, y_pred, normalize=True))\n",
    "print(\"Auc: %0.3f\" % metrics.roc_auc_score(y, y_pred))"
   ]
  },
  {
   "cell_type": "markdown",
   "id": "65eb956c",
   "metadata": {},
   "source": [
    "Thus I still choose svm for prediction."
   ]
  },
  {
   "cell_type": "markdown",
   "id": "1cfde85d",
   "metadata": {},
   "source": [
    "## Deploy to Tabpy Server"
   ]
  },
  {
   "cell_type": "code",
   "execution_count": 35,
   "id": "962468db",
   "metadata": {},
   "outputs": [],
   "source": [
    "connection = Client('http://localhost:9004/')"
   ]
  },
  {
   "cell_type": "code",
   "execution_count": 36,
   "id": "d5734134",
   "metadata": {},
   "outputs": [],
   "source": [
    "def svmpredict(var1, var2, var3, var4, var5, var6, var7, var8, var9, var10):\n",
    "    X = np.column_stack([var1, var2, var3, var4, var5, var6, var7, var8, var9, var10])\n",
    "    X = scaler.transform(X)\n",
    "    output = svmclf.predict(X)\n",
    "    return encoder.inverse_transform(output).tolist()"
   ]
  },
  {
   "cell_type": "code",
   "execution_count": 37,
   "id": "08450785",
   "metadata": {},
   "outputs": [],
   "source": [
    "connection.deploy('SVMpredict',\n",
    "                  svmpredict,\n",
    "                  'Use SVM classifier to predict the cancer type based on input values', override = True)"
   ]
  }
 ],
 "metadata": {
  "kernelspec": {
   "display_name": "Python 3 (ipykernel)",
   "language": "python",
   "name": "python3"
  },
  "language_info": {
   "codemirror_mode": {
    "name": "ipython",
    "version": 3
   },
   "file_extension": ".py",
   "mimetype": "text/x-python",
   "name": "python",
   "nbconvert_exporter": "python",
   "pygments_lexer": "ipython3",
   "version": "3.11.5"
  }
 },
 "nbformat": 4,
 "nbformat_minor": 5
}
